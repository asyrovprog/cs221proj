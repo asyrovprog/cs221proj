{
 "cells": [
  {
   "cell_type": "code",
   "execution_count": 27,
   "metadata": {},
   "outputs": [
    {
     "name": "stderr",
     "output_type": "stream",
     "text": [
      "/Users/yufan/anaconda2/envs/py36/lib/python3.6/site-packages/IPython/core/interactiveshell.py:2728: DtypeWarning: Columns (19,20) have mixed types. Specify dtype option on import or set low_memory=False.\n",
      "  interactivity=interactivity, compiler=compiler, result=result)\n"
     ]
    }
   ],
   "source": [
    "import numpy as np\n",
    "import pandas as pd\n",
    "\n",
    "df = pd.read_csv('/Users/yufan/Desktop/sf_fire_deparment_from_3000k.csv')\n",
    "df['date'] = pd.to_datetime(df['Received DtTm'], format='%m/%d/%Y %I:%M:%S %p')\n",
    "df['hour'] = df['date'].dt.hour\n",
    "df['dayOfWeek'] = df['date'].dt.dayofweek"
   ]
  },
  {
   "cell_type": "code",
   "execution_count": 28,
   "metadata": {},
   "outputs": [],
   "source": [
    "df = df[['Zipcode of Incident', 'dayOfWeek','Supervisor District','hour', 'Call Type']]\n",
    "hotkeydf = pd.get_dummies(data=df, columns=['Zipcode of Incident', 'dayOfWeek','Supervisor District'])\n",
    "hotkeydf['hour'] = df['hour'] # append non hotkey attribute"
   ]
  },
  {
   "cell_type": "code",
   "execution_count": 29,
   "metadata": {},
   "outputs": [],
   "source": [
    "from sklearn.model_selection import train_test_split\n",
    "train, test = train_test_split(hotkeydf, test_size=0.2)\n",
    "# x is feature, y is label\n",
    "train_x = train.copy().drop('Call Type', 1)\n",
    "train_y = train[['Call Type']]\n",
    "test_x = test.copy().drop('Call Type', 1)\n",
    "test_y = test[['Call Type']]"
   ]
  },
  {
   "cell_type": "code",
   "execution_count": 30,
   "metadata": {
    "collapsed": true
   },
   "outputs": [],
   "source": [
    "from sklearn import preprocessing\n",
    "from sklearn.linear_model import LogisticRegression\n",
    "from sklearn.naive_bayes import GaussianNB\n",
    "from sklearn.ensemble import RandomForestClassifier, VotingClassifier\n",
    "from sklearn.neural_network import MLPClassifier\n",
    "from sklearn.linear_model import SGDClassifier\n",
    "\n",
    "sgd = SGDClassifier()\n",
    "logisticRegression = LogisticRegression(random_state=1)\n",
    "randomForest = RandomForestClassifier(random_state=1)\n",
    "neuralNetwork = MLPClassifier(alpha = 1)\n",
    "voting = VotingClassifier(estimators=[('lr', logisticRegression), ('rf', randomForest), ('nn', neuralNetwork)],voting='soft')\n",
    "classifierList = [sgd, logisticRegression, randomForest, neuralNetwork, voting]\n",
    "classifierNameList = [\"SGD\", \"logisticRegression\", \"randomForest\", \"neuralNetwork\", \"voting\"]"
   ]
  },
  {
   "cell_type": "code",
   "execution_count": 31,
   "metadata": {},
   "outputs": [],
   "source": [
    "le = preprocessing.LabelEncoder()\n",
    "le.fit_transform(train_y['Call Type'])\n",
    "\n",
    "def trainModelAndPrintResult(classifer, classifier_name):\n",
    "    model = classifer.fit(train_x, le.fit_transform(train_y))\n",
    "    train_score = model.score(train_x, le.transform(train_y))\n",
    "    test_score = model.score(test_x, le.transform(test_y))\n",
    "    print(\"Classification Score for: \", classifier_name)\n",
    "    print(\"Trainning score: \", train_score)\n",
    "    print(\"Test score: \", test_score)"
   ]
  },
  {
   "cell_type": "code",
   "execution_count": 32,
   "metadata": {},
   "outputs": [
    {
     "name": "stderr",
     "output_type": "stream",
     "text": [
      "/Users/yufan/anaconda2/envs/py36/lib/python3.6/site-packages/sklearn/preprocessing/label.py:111: DataConversionWarning: A column-vector y was passed when a 1d array was expected. Please change the shape of y to (n_samples, ), for example using ravel().\n",
      "  y = column_or_1d(y, warn=True)\n",
      "/Users/yufan/anaconda2/envs/py36/lib/python3.6/site-packages/sklearn/linear_model/stochastic_gradient.py:128: FutureWarning: max_iter and tol parameters have been added in <class 'sklearn.linear_model.stochastic_gradient.SGDClassifier'> in 0.19. If both are left unset, they default to max_iter=5 and tol=None. If tol is not None, max_iter defaults to max_iter=1000. From 0.21, default max_iter will be 1000, and default tol will be 1e-3.\n",
      "  \"and default tol will be 1e-3.\" % type(self), FutureWarning)\n",
      "/Users/yufan/anaconda2/envs/py36/lib/python3.6/site-packages/sklearn/preprocessing/label.py:128: DataConversionWarning: A column-vector y was passed when a 1d array was expected. Please change the shape of y to (n_samples, ), for example using ravel().\n",
      "  y = column_or_1d(y, warn=True)\n"
     ]
    },
    {
     "name": "stdout",
     "output_type": "stream",
     "text": [
      "Classification Score for:  SGD\n",
      "Trainning score:  0.668071476736\n",
      "Test score:  0.668376918609\n",
      "Classification Score for:  logisticRegression\n",
      "Trainning score:  0.675027372933\n",
      "Test score:  0.675316958533"
     ]
    },
    {
     "name": "stderr",
     "output_type": "stream",
     "text": [
      "/Users/yufan/anaconda2/envs/py36/lib/python3.6/site-packages/sklearn/preprocessing/label.py:128: DataConversionWarning: A column-vector y was passed when a 1d array was expected. Please change the shape of y to (n_samples, ), for example using ravel().\n",
      "  y = column_or_1d(y, warn=True)\n"
     ]
    },
    {
     "name": "stdout",
     "output_type": "stream",
     "text": [
      "\n",
      "Classification Score for:  randomForest\n",
      "Trainning score:  0.67767620491\n",
      "Test score:  0.675984591042"
     ]
    },
    {
     "name": "stderr",
     "output_type": "stream",
     "text": [
      "/Users/yufan/anaconda2/envs/py36/lib/python3.6/site-packages/sklearn/preprocessing/label.py:111: DataConversionWarning: A column-vector y was passed when a 1d array was expected. Please change the shape of y to (n_samples, ), for example using ravel().\n",
      "  y = column_or_1d(y, warn=True)\n"
     ]
    },
    {
     "name": "stdout",
     "output_type": "stream",
     "text": [
      "\n",
      "Classification Score for:  neuralNetwork\n",
      "Trainning score:  0.673575272227\n",
      "Test score:  0.673914930266"
     ]
    },
    {
     "name": "stderr",
     "output_type": "stream",
     "text": [
      "/Users/yufan/anaconda2/envs/py36/lib/python3.6/site-packages/sklearn/preprocessing/label.py:128: DataConversionWarning: A column-vector y was passed when a 1d array was expected. Please change the shape of y to (n_samples, ), for example using ravel().\n",
      "  y = column_or_1d(y, warn=True)\n"
     ]
    },
    {
     "name": "stdout",
     "output_type": "stream",
     "text": [
      "\n",
      "Classification Score for:  voting\n",
      "Trainning score:  0.67522098636\n",
      "Test score:  0.675397074434\n"
     ]
    }
   ],
   "source": [
    "for i in range(len(classifierList)):\n",
    "    trainModelAndPrintResult(classifierList[i], classifierNameList[i])"
   ]
  },
  {
   "cell_type": "code",
   "execution_count": null,
   "metadata": {
    "collapsed": true
   },
   "outputs": [],
   "source": []
  },
  {
   "cell_type": "code",
   "execution_count": null,
   "metadata": {
    "collapsed": true
   },
   "outputs": [],
   "source": []
  }
 ],
 "metadata": {
  "kernelspec": {
   "display_name": "Python 3",
   "language": "python",
   "name": "python3"
  },
  "language_info": {
   "codemirror_mode": {
    "name": "ipython",
    "version": 3
   },
   "file_extension": ".py",
   "mimetype": "text/x-python",
   "name": "python",
   "nbconvert_exporter": "python",
   "pygments_lexer": "ipython3",
   "version": "3.6.3"
  }
 },
 "nbformat": 4,
 "nbformat_minor": 2
}
