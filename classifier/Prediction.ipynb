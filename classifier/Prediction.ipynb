{
 "cells": [
  {
   "cell_type": "code",
   "execution_count": 1,
   "metadata": {},
   "outputs": [
    {
     "name": "stdout",
     "output_type": "stream",
     "text": [
      "['Address', 'Type', 'Datetime', 'Latitude', 'Longitude', 'Report Location', 'Incident Number']\n",
      "663810\n"
     ]
    },
    {
     "name": "stderr",
     "output_type": "stream",
     "text": [
      "/Users/yufan/anaconda2/envs/py36/lib/python3.6/site-packages/IPython/core/interactiveshell.py:2698: DtypeWarning: Columns (3) have mixed types. Specify dtype option on import or set low_memory=False.\n",
      "  interactivity=interactivity, compiler=compiler, result=result)\n"
     ]
    }
   ],
   "source": [
    "import numpy as np\n",
    "import pandas as pd\n",
    "\n",
    "df = pd.read_csv('./911_calls_full.csv')\n",
    "original_headers = list(df.columns.values)\n",
    "print(original_headers)\n",
    "print(len(df))\n"
   ]
  },
  {
   "cell_type": "code",
   "execution_count": 2,
   "metadata": {},
   "outputs": [
    {
     "name": "stdout",
     "output_type": "stream",
     "text": [
      "661764\n",
      "0         11/09/201111:33:00PM\n",
      "1         11/09/201111:32:00PM\n",
      "2         11/09/201111:32:00PM\n",
      "3         11/09/201111:29:00PM\n",
      "4         11/09/201111:25:00PM\n",
      "5         11/09/201111:17:00PM\n",
      "6         11/09/201111:07:00PM\n",
      "7         11/09/201111:05:00PM\n",
      "8         11/09/201111:03:00PM\n",
      "9         11/09/201111:02:00PM\n",
      "10        11/09/201110:59:00PM\n",
      "11        11/09/201110:56:00PM\n",
      "12        11/09/201110:55:00PM\n",
      "13        11/09/201110:55:00PM\n",
      "14        11/09/201110:53:00PM\n",
      "15        11/09/201110:52:00PM\n",
      "16        11/09/201110:52:00PM\n",
      "17        11/09/201110:46:00PM\n",
      "18        11/09/201110:37:00PM\n",
      "19        11/09/201110:29:00PM\n",
      "20        11/09/201110:23:00PM\n",
      "21        11/09/201110:23:00PM\n",
      "22        11/09/201110:21:00PM\n",
      "23        11/09/201110:11:00PM\n",
      "24        11/09/201110:10:00PM\n",
      "25        11/09/201110:04:00PM\n",
      "26        11/09/201110:03:00PM\n",
      "27        11/09/201110:02:00PM\n",
      "28        11/09/201109:51:00PM\n",
      "29        11/09/201109:47:00PM\n",
      "                  ...         \n",
      "663780    11/09/201706:41:00PM\n",
      "663781    11/09/201708:15:00PM\n",
      "663782    11/09/201709:18:00PM\n",
      "663783    11/09/201709:21:00PM\n",
      "663784    11/09/201709:23:00PM\n",
      "663785    11/09/201710:26:00PM\n",
      "663786    11/09/201710:27:00PM\n",
      "663787    11/09/201710:52:00AM\n",
      "663788    11/09/201703:12:00PM\n",
      "663789    11/09/201703:45:00PM\n",
      "663790    11/09/201705:23:00PM\n",
      "663791    11/09/201705:39:00PM\n",
      "663792    11/09/201705:44:00PM\n",
      "663793    11/09/201707:21:00PM\n",
      "663794    11/09/201708:05:00PM\n",
      "663795    11/09/201708:27:00PM\n",
      "663796    11/09/201711:46:00PM\n",
      "663797    11/09/201701:30:00PM\n",
      "663798    11/09/201705:27:00PM\n",
      "663799    11/09/201706:23:00PM\n",
      "663800    11/09/201701:52:00PM\n",
      "663801    11/09/201707:34:00PM\n",
      "663802    11/09/201711:31:00PM\n",
      "663803    11/09/201703:29:00PM\n",
      "663804    11/09/201707:36:00PM\n",
      "663805    11/09/201707:42:00PM\n",
      "663806    11/09/201707:50:00PM\n",
      "663807    11/09/201707:51:00PM\n",
      "663808    11/09/201707:59:00PM\n",
      "663809    11/09/201708:06:00PM\n",
      "Name: OverrideDateTime, Length: 661764, dtype: object\n"
     ]
    }
   ],
   "source": [
    "# Get rid of rows which contains bad timestamp format\n",
    "df['OverrideDateTime'] = df['Datetime'].apply(lambda c: (''.join(c.split()))[:-5] if len(c.split()) > 2 else None)\n",
    "df = df[df.OverrideDateTime.notnull()]\n",
    "print(len(df))\n",
    "print(df.OverrideDateTime)"
   ]
  },
  {
   "cell_type": "code",
   "execution_count": 3,
   "metadata": {},
   "outputs": [
    {
     "name": "stdout",
     "output_type": "stream",
     "text": [
      "0         23\n",
      "1         23\n",
      "2         23\n",
      "3         23\n",
      "4         23\n",
      "5         23\n",
      "6         23\n",
      "7         23\n",
      "8         23\n",
      "9         23\n",
      "10        22\n",
      "11        22\n",
      "12        22\n",
      "13        22\n",
      "14        22\n",
      "15        22\n",
      "16        22\n",
      "17        22\n",
      "18        22\n",
      "19        22\n",
      "20        22\n",
      "21        22\n",
      "22        22\n",
      "23        22\n",
      "24        22\n",
      "25        22\n",
      "26        22\n",
      "27        22\n",
      "28        21\n",
      "29        21\n",
      "          ..\n",
      "663780    18\n",
      "663781    20\n",
      "663782    21\n",
      "663783    21\n",
      "663784    21\n",
      "663785    22\n",
      "663786    22\n",
      "663787    10\n",
      "663788    15\n",
      "663789    15\n",
      "663790    17\n",
      "663791    17\n",
      "663792    17\n",
      "663793    19\n",
      "663794    20\n",
      "663795    20\n",
      "663796    23\n",
      "663797    13\n",
      "663798    17\n",
      "663799    18\n",
      "663800    13\n",
      "663801    19\n",
      "663802    23\n",
      "663803    15\n",
      "663804    19\n",
      "663805    19\n",
      "663806    19\n",
      "663807    19\n",
      "663808    19\n",
      "663809    20\n",
      "Name: hour, Length: 661764, dtype: int64\n"
     ]
    }
   ],
   "source": [
    "df['hour'] = pd.to_datetime(df['OverrideDateTime'], format='%m/%d/%Y%I:%M:%S%p').dt.hour\n",
    "print(df['hour'])"
   ]
  },
  {
   "cell_type": "code",
   "execution_count": 4,
   "metadata": {
    "scrolled": true
   },
   "outputs": [
    {
     "name": "stdout",
     "output_type": "stream",
     "text": [
      "529411\n",
      "132353\n"
     ]
    }
   ],
   "source": [
    "from sklearn.model_selection import train_test_split\n",
    "# Split the dataset\n",
    "train, test = train_test_split(df, test_size=0.2)\n",
    "print(len(train))\n",
    "print(len(test))"
   ]
  },
  {
   "cell_type": "code",
   "execution_count": 5,
   "metadata": {},
   "outputs": [
    {
     "name": "stderr",
     "output_type": "stream",
     "text": [
      "/Users/yufan/anaconda2/envs/py36/lib/python3.6/site-packages/ipykernel_launcher.py:15: SettingWithCopyWarning: \n",
      "A value is trying to be set on a copy of a slice from a DataFrame.\n",
      "Try using .loc[row_indexer,col_indexer] = value instead\n",
      "\n",
      "See the caveats in the documentation: http://pandas.pydata.org/pandas-docs/stable/indexing.html#indexing-view-versus-copy\n",
      "  from ipykernel import kernelapp as app\n",
      "/Users/yufan/anaconda2/envs/py36/lib/python3.6/site-packages/ipykernel_launcher.py:16: SettingWithCopyWarning: \n",
      "A value is trying to be set on a copy of a slice from a DataFrame.\n",
      "Try using .loc[row_indexer,col_indexer] = value instead\n",
      "\n",
      "See the caveats in the documentation: http://pandas.pydata.org/pandas-docs/stable/indexing.html#indexing-view-versus-copy\n",
      "  app.launch_new_instance()\n",
      "/Users/yufan/anaconda2/envs/py36/lib/python3.6/site-packages/ipykernel_launcher.py:21: SettingWithCopyWarning: \n",
      "A value is trying to be set on a copy of a slice from a DataFrame.\n",
      "Try using .loc[row_indexer,col_indexer] = value instead\n",
      "\n",
      "See the caveats in the documentation: http://pandas.pydata.org/pandas-docs/stable/indexing.html#indexing-view-versus-copy\n",
      "/Users/yufan/anaconda2/envs/py36/lib/python3.6/site-packages/ipykernel_launcher.py:22: SettingWithCopyWarning: \n",
      "A value is trying to be set on a copy of a slice from a DataFrame.\n",
      "Try using .loc[row_indexer,col_indexer] = value instead\n",
      "\n",
      "See the caveats in the documentation: http://pandas.pydata.org/pandas-docs/stable/indexing.html#indexing-view-versus-copy\n"
     ]
    }
   ],
   "source": [
    "from sklearn import preprocessing\n",
    "from sklearn.pipeline import Pipeline\n",
    "from sklearn.linear_model import LogisticRegression\n",
    "from sklearn.naive_bayes import GaussianNB\n",
    "from sklearn.ensemble import RandomForestClassifier, VotingClassifier\n",
    "\n",
    "clf1 = LogisticRegression(random_state=1)\n",
    "clf2 = RandomForestClassifier(random_state=1)\n",
    "clf3 = GaussianNB()\n",
    "#('lr', clf1), ('rf', clf2), ('gnb', clf3)\n",
    "classifier = VotingClassifier(estimators=[('lr', clf1), ('rf', clf2), ('gnb', clf3)], voting='soft')\n",
    "\n",
    "# x is feature, y is label\n",
    "train_x = train[['Latitude', 'Longitude', 'hour']]\n",
    "train_x['Latitude'] = pd.to_numeric(train_x['Latitude'], errors='coerce') # transform the latitude attribtue\n",
    "train_x['Longitude'] = pd.to_numeric(train_x['Longitude'],errors='coerce')\n",
    "\n",
    "train_y = train[['Type']]\n",
    "\n",
    "test_x = test[['Latitude', 'Longitude', 'hour']]\n",
    "test_x['Latitude'] = pd.to_numeric(test_x['Latitude'],errors='coerce')\n",
    "test_x['Longitude'] = pd.to_numeric(test_x['Longitude'],errors='coerce')\n",
    "\n",
    "test_y = test[['Type']]"
   ]
  },
  {
   "cell_type": "code",
   "execution_count": null,
   "metadata": {},
   "outputs": [
    {
     "data": {
      "text/plain": [
       "array([  8, 160,   8, ...,  93,   8, 160])"
      ]
     },
     "execution_count": 6,
     "metadata": {},
     "output_type": "execute_result"
    }
   ],
   "source": [
    "le = preprocessing.LabelEncoder()\n",
    "le.fit_transform(train_y.Type)"
   ]
  },
  {
   "cell_type": "code",
   "execution_count": null,
   "metadata": {},
   "outputs": [
    {
     "name": "stderr",
     "output_type": "stream",
     "text": [
      "/Users/yufan/anaconda2/envs/py36/lib/python3.6/site-packages/sklearn/preprocessing/label.py:111: DataConversionWarning: A column-vector y was passed when a 1d array was expected. Please change the shape of y to (n_samples, ), for example using ravel().\n",
      "  y = column_or_1d(y, warn=True)\n"
     ]
    }
   ],
   "source": [
    "train_x = train_x.fillna(train_x.mean()) # use mean to fillout missing value in train_x\n",
    "model = classifier.fit(train_x, le.fit_transform(train_y))\n",
    "train_score = model.score(train_x, le.fit_transform(train_y))\n",
    "print(train_score) #Mean accuracy"
   ]
  },
  {
   "cell_type": "code",
   "execution_count": null,
   "metadata": {},
   "outputs": [],
   "source": [
    "test_x = test_x.fillna(test_x.mean())\n",
    "le = preprocessing.LabelEncoder()\n",
    "test_score = model.score(test_x, le.fit_transform(test_y))\n",
    "print(test_score) "
   ]
  },
  {
   "cell_type": "code",
   "execution_count": null,
   "metadata": {
    "collapsed": true
   },
   "outputs": [],
   "source": []
  }
 ],
 "metadata": {
  "kernelspec": {
   "display_name": "Python 3",
   "language": "python",
   "name": "python3"
  },
  "language_info": {
   "codemirror_mode": {
    "name": "ipython",
    "version": 3
   },
   "file_extension": ".py",
   "mimetype": "text/x-python",
   "name": "python",
   "nbconvert_exporter": "python",
   "pygments_lexer": "ipython3",
   "version": "3.6.3"
  }
 },
 "nbformat": 4,
 "nbformat_minor": 2
}
